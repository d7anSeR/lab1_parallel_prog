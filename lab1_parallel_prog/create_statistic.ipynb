{
 "cells": [
  {
   "cell_type": "code",
   "execution_count": 13,
   "metadata": {},
   "outputs": [],
   "source": [
    "import numpy as np\n",
    "import scipy.stats as st \n",
    "import csv"
   ]
  },
  {
   "cell_type": "code",
   "execution_count": 14,
   "metadata": {},
   "outputs": [],
   "source": [
    "name_file = [\"matrix_res_500.csv\", \"matrix_res_1000.csv\", \"matrix_res_1500.csv\"]\n",
    "name_time = \"matrix_time.csv\""
   ]
  },
  {
   "cell_type": "code",
   "execution_count": 15,
   "metadata": {},
   "outputs": [
    {
     "name": "stdout",
     "output_type": "stream",
     "text": [
      "[['113', '536', '435', '394', '435', '393', '395', '395', '392', '402'], ['3966', '6746', '4712', '4548', '4272', '3990', '4074', '5323', '4436', '3987'], ['16579', '15535', '13118', '12850', '14412', '12637', '14246', '23057', '17049', '12881']]\n"
     ]
    }
   ],
   "source": [
    "list_time = []\n",
    "with open(name_time) as file: \n",
    "    reader = csv.reader(file)\n",
    "    for row in reader: \n",
    "        list_time.append(row)\n",
    "print(list_time)"
   ]
  },
  {
   "cell_type": "code",
   "execution_count": 16,
   "metadata": {},
   "outputs": [
    {
     "ename": "TypeError",
     "evalue": "rv_generic.interval() missing 1 required positional argument: 'confidence'",
     "output_type": "error",
     "traceback": [
      "\u001b[1;31m---------------------------------------------------------------------------\u001b[0m",
      "\u001b[1;31mTypeError\u001b[0m                                 Traceback (most recent call last)",
      "Cell \u001b[1;32mIn [16], line 3\u001b[0m\n\u001b[0;32m      1\u001b[0m \u001b[38;5;28;01mfor\u001b[39;00m i \u001b[38;5;129;01min\u001b[39;00m list_time:\n\u001b[0;32m      2\u001b[0m     list_item \u001b[38;5;241m=\u001b[39m [\u001b[38;5;28mint\u001b[39m(item) \u001b[38;5;28;01mfor\u001b[39;00m item \u001b[38;5;129;01min\u001b[39;00m i]\n\u001b[1;32m----> 3\u001b[0m     \u001b[38;5;28mprint\u001b[39m(\u001b[38;5;124m\"\u001b[39m\u001b[38;5;124m95\u001b[39m\u001b[38;5;124m%\u001b[39m\u001b[38;5;124m доверительный интервал для истинного среднего роста населения составляет: \u001b[39m\u001b[38;5;124m\"\u001b[39m, st\u001b[38;5;241m.\u001b[39mt\u001b[38;5;241m.\u001b[39minterval(alpha\u001b[38;5;241m=\u001b[39m\u001b[38;5;241m0.95\u001b[39m, df\u001b[38;5;241m=\u001b[39m\u001b[38;5;28mlen\u001b[39m(list_item)\u001b[38;5;241m-\u001b[39m\u001b[38;5;241m1\u001b[39m, loc\u001b[38;5;241m=\u001b[39mnp\u001b[38;5;241m.\u001b[39mmean(list_item), scale\u001b[38;5;241m=\u001b[39mst\u001b[38;5;241m.\u001b[39msem(list_item)) )\n",
      "\u001b[1;31mTypeError\u001b[0m: rv_generic.interval() missing 1 required positional argument: 'confidence'"
     ]
    }
   ],
   "source": [
    "for i in list_time:\n",
    "    list_item = [int(item) for item in i]\n",
    "    print(\"95% доверительный интервал для истинного среднего роста населения составляет: \", st.t.interval(alpha=0.95, df=len(list_item)-1, loc=np.mean(list_item), scale=st.sem(list_item)) )"
   ]
  },
  {
   "cell_type": "code",
   "execution_count": null,
   "metadata": {},
   "outputs": [],
   "source": [
    "st.t.interval(alpha=0.95, df=len(data)-1, loc=np.mean(data), scale=st.sem(data)) "
   ]
  }
 ],
 "metadata": {
  "kernelspec": {
   "display_name": "Python 3",
   "language": "python",
   "name": "python3"
  },
  "language_info": {
   "codemirror_mode": {
    "name": "ipython",
    "version": 3
   },
   "file_extension": ".py",
   "mimetype": "text/x-python",
   "name": "python",
   "nbconvert_exporter": "python",
   "pygments_lexer": "ipython3",
   "version": "3.10.7"
  }
 },
 "nbformat": 4,
 "nbformat_minor": 2
}
